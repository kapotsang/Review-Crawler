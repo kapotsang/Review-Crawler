{
 "cells": [
  {
   "cell_type": "code",
   "execution_count": 2,
   "id": "4dabfb69",
   "metadata": {},
   "outputs": [],
   "source": [
    "import nltk\n",
    "import csv\n",
    "from nltk.corpus import stopwords\n",
    "import numpy as np\n",
    "import matplotlib.pyplot as plt\n",
    "import pandas as pd\n"
   ]
  },
  {
   "cell_type": "code",
   "execution_count": 3,
   "id": "78d88cfa",
   "metadata": {},
   "outputs": [],
   "source": [
    "stop_words = set(stopwords.words(\"english\"))"
   ]
  },
  {
   "cell_type": "code",
   "execution_count": 4,
   "id": "ec38e69a",
   "metadata": {},
   "outputs": [
    {
     "name": "stdout",
     "output_type": "stream",
     "text": [
      "yes\n"
     ]
    }
   ],
   "source": [
    "print(\"yes\")"
   ]
  },
  {
   "cell_type": "code",
   "execution_count": 8,
   "id": "eba6cd97",
   "metadata": {},
   "outputs": [],
   "source": [
    "dataset = pd.read_csv(r'reviews_ioCombined.csv')"
   ]
  },
  {
   "cell_type": "code",
   "execution_count": 9,
   "id": "3b947d88",
   "metadata": {},
   "outputs": [
    {
     "data": {
      "text/html": [
       "<div>\n",
       "<style scoped>\n",
       "    .dataframe tbody tr th:only-of-type {\n",
       "        vertical-align: middle;\n",
       "    }\n",
       "\n",
       "    .dataframe tbody tr th {\n",
       "        vertical-align: top;\n",
       "    }\n",
       "\n",
       "    .dataframe thead th {\n",
       "        text-align: right;\n",
       "    }\n",
       "</style>\n",
       "<table border=\"1\" class=\"dataframe\">\n",
       "  <thead>\n",
       "    <tr style=\"text-align: right;\">\n",
       "      <th></th>\n",
       "      <th>AUTHOR</th>\n",
       "      <th>COMMENT</th>\n",
       "      <th>RATING</th>\n",
       "      <th>TIME</th>\n",
       "    </tr>\n",
       "  </thead>\n",
       "  <tbody>\n",
       "    <tr>\n",
       "      <th>0</th>\n",
       "      <td>Elizabeth Lowes</td>\n",
       "      <td>“\\nI asked for a charge back of £38.47.. for a...</td>\n",
       "      <td>1</td>\n",
       "      <td>Posted 1 day ago</td>\n",
       "    </tr>\n",
       "    <tr>\n",
       "      <th>1</th>\n",
       "      <td>Anonymous</td>\n",
       "      <td>“\\nOnly thing worse than being a Natwest custo...</td>\n",
       "      <td>1</td>\n",
       "      <td>Posted 1 week ago</td>\n",
       "    </tr>\n",
       "    <tr>\n",
       "      <th>2</th>\n",
       "      <td>Anonymous</td>\n",
       "      <td>“\\nInformed them online I was going to Japan f...</td>\n",
       "      <td>1</td>\n",
       "      <td>Posted 1 week ago</td>\n",
       "    </tr>\n",
       "    <tr>\n",
       "      <th>3</th>\n",
       "      <td>Mrs Elizabeth Lowes</td>\n",
       "      <td>“\\nNatwest accused me of charge back fraud aft...</td>\n",
       "      <td>1</td>\n",
       "      <td>Posted 2 weeks ago</td>\n",
       "    </tr>\n",
       "    <tr>\n",
       "      <th>4</th>\n",
       "      <td>Mrs Elizabeth Lowes</td>\n",
       "      <td>“\\nWorst bank ever l got a very rude insulting...</td>\n",
       "      <td>1</td>\n",
       "      <td>Posted 2 weeks ago</td>\n",
       "    </tr>\n",
       "    <tr>\n",
       "      <th>...</th>\n",
       "      <td>...</td>\n",
       "      <td>...</td>\n",
       "      <td>...</td>\n",
       "      <td>...</td>\n",
       "    </tr>\n",
       "    <tr>\n",
       "      <th>335</th>\n",
       "      <td>Ben Conway</td>\n",
       "      <td>“\\nAwful customer service NatWest Help Oxford ...</td>\n",
       "      <td>1</td>\n",
       "      <td>Posted 8 years ago</td>\n",
       "    </tr>\n",
       "    <tr>\n",
       "      <th>336</th>\n",
       "      <td>Genna</td>\n",
       "      <td>“\\nDefinitely fell in love with the man on the...</td>\n",
       "      <td>5</td>\n",
       "      <td>Posted 8 years ago</td>\n",
       "    </tr>\n",
       "    <tr>\n",
       "      <th>337</th>\n",
       "      <td>Jo Tillott</td>\n",
       "      <td>“\\n£16.00 to call NatWest Help about a simple ...</td>\n",
       "      <td>1</td>\n",
       "      <td>Posted 8 years ago</td>\n",
       "    </tr>\n",
       "    <tr>\n",
       "      <th>338</th>\n",
       "      <td>Skywalker</td>\n",
       "      <td>“\\nI forgot how much I actually dislike Natwes...</td>\n",
       "      <td>1</td>\n",
       "      <td>Posted 8 years ago</td>\n",
       "    </tr>\n",
       "    <tr>\n",
       "      <th>339</th>\n",
       "      <td>Leanna Lawson</td>\n",
       "      <td>“\\nhave just had amazing customer service from...</td>\n",
       "      <td>5</td>\n",
       "      <td>Posted 8 years ago</td>\n",
       "    </tr>\n",
       "  </tbody>\n",
       "</table>\n",
       "<p>340 rows × 4 columns</p>\n",
       "</div>"
      ],
      "text/plain": [
       "                  AUTHOR                                            COMMENT  \\\n",
       "0        Elizabeth Lowes  “\\nI asked for a charge back of £38.47.. for a...   \n",
       "1              Anonymous  “\\nOnly thing worse than being a Natwest custo...   \n",
       "2              Anonymous  “\\nInformed them online I was going to Japan f...   \n",
       "3    Mrs Elizabeth Lowes  “\\nNatwest accused me of charge back fraud aft...   \n",
       "4    Mrs Elizabeth Lowes  “\\nWorst bank ever l got a very rude insulting...   \n",
       "..                   ...                                                ...   \n",
       "335           Ben Conway  “\\nAwful customer service NatWest Help Oxford ...   \n",
       "336                Genna  “\\nDefinitely fell in love with the man on the...   \n",
       "337           Jo Tillott  “\\n£16.00 to call NatWest Help about a simple ...   \n",
       "338            Skywalker  “\\nI forgot how much I actually dislike Natwes...   \n",
       "339        Leanna Lawson  “\\nhave just had amazing customer service from...   \n",
       "\n",
       "     RATING                TIME  \n",
       "0         1    Posted 1 day ago  \n",
       "1         1   Posted 1 week ago  \n",
       "2         1   Posted 1 week ago  \n",
       "3         1  Posted 2 weeks ago  \n",
       "4         1  Posted 2 weeks ago  \n",
       "..      ...                 ...  \n",
       "335       1  Posted 8 years ago  \n",
       "336       5  Posted 8 years ago  \n",
       "337       1  Posted 8 years ago  \n",
       "338       1  Posted 8 years ago  \n",
       "339       5  Posted 8 years ago  \n",
       "\n",
       "[340 rows x 4 columns]"
      ]
     },
     "execution_count": 9,
     "metadata": {},
     "output_type": "execute_result"
    }
   ],
   "source": [
    "dataset"
   ]
  },
  {
   "cell_type": "code",
   "execution_count": null,
   "id": "17935a83",
   "metadata": {},
   "outputs": [],
   "source": []
  }
 ],
 "metadata": {
  "kernelspec": {
   "display_name": "Python 3 (ipykernel)",
   "language": "python",
   "name": "python3"
  },
  "language_info": {
   "codemirror_mode": {
    "name": "ipython",
    "version": 3
   },
   "file_extension": ".py",
   "mimetype": "text/x-python",
   "name": "python",
   "nbconvert_exporter": "python",
   "pygments_lexer": "ipython3",
   "version": "3.9.7"
  }
 },
 "nbformat": 4,
 "nbformat_minor": 5
}
