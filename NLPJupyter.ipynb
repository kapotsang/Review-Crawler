{
 "cells": [
  {
   "cell_type": "code",
   "execution_count": 2,
   "id": "4dabfb69",
   "metadata": {},
   "outputs": [],
   "source": [
    "import nltk\n",
    "import csv\n",
    "from nltk.corpus import stopwords\n",
    "import numpy as np\n",
    "import matplotlib.pyplot as plt\n",
    "import pandas as pd\n"
   ]
  },
  {
   "cell_type": "code",
   "execution_count": 3,
   "id": "78d88cfa",
   "metadata": {},
   "outputs": [],
   "source": [
    "stop_words = set(stopwords.words(\"english\"))"
   ]
  },
  {
   "cell_type": "code",
   "execution_count": 4,
   "id": "ec38e69a",
   "metadata": {},
   "outputs": [
    {
     "name": "stdout",
     "output_type": "stream",
     "text": [
      "yes\n"
     ]
    }
   ],
   "source": [
    "print(\"yes\")"
   ]
  },
  {
   "cell_type": "code",
   "execution_count": 8,
   "id": "eba6cd97",
   "metadata": {},
   "outputs": [],
   "source": [
    "dataset = pd.read_csv(r'reviews_ioCombined.csv')"
   ]
  },
  {
   "cell_type": "code",
   "execution_count": 9,
   "id": "3b947d88",
   "metadata": {},
   "outputs": [
    {
     "data": {
      "text/html": [
       "<div>\n",
       "<style scoped>\n",
       "    .dataframe tbody tr th:only-of-type {\n",
       "        vertical-align: middle;\n",
       "    }\n",
       "\n",
       "    .dataframe tbody tr th {\n",
       "        vertical-align: top;\n",
       "    }\n",
       "\n",
       "    .dataframe thead th {\n",
       "        text-align: right;\n",
       "    }\n",
       "</style>\n",
       "<table border=\"1\" class=\"dataframe\">\n",
       "  <thead>\n",
       "    <tr style=\"text-align: right;\">\n",
       "      <th></th>\n",
       "      <th>AUTHOR</th>\n",
       "      <th>COMMENT</th>\n",
       "      <th>RATING</th>\n",
       "      <th>TIME</th>\n",
       "    </tr>\n",
       "  </thead>\n",
       "  <tbody>\n",
       "    <tr>\n",
       "      <th>0</th>\n",
       "      <td>Elizabeth Lowes</td>\n",
       "      <td>“\\nI asked for a charge back of £38.47.. for a...</td>\n",
       "      <td>1</td>\n",
       "      <td>Posted 1 day ago</td>\n",
       "    </tr>\n",
       "    <tr>\n",
       "      <th>1</th>\n",
       "      <td>Anonymous</td>\n",
       "      <td>“\\nOnly thing worse than being a Natwest custo...</td>\n",
       "      <td>1</td>\n",
       "      <td>Posted 1 week ago</td>\n",
       "    </tr>\n",
       "    <tr>\n",
       "      <th>2</th>\n",
       "      <td>Anonymous</td>\n",
       "      <td>“\\nInformed them online I was going to Japan f...</td>\n",
       "      <td>1</td>\n",
       "      <td>Posted 1 week ago</td>\n",
       "    </tr>\n",
       "    <tr>\n",
       "      <th>3</th>\n",
       "      <td>Mrs Elizabeth Lowes</td>\n",
       "      <td>“\\nNatwest accused me of charge back fraud aft...</td>\n",
       "      <td>1</td>\n",
       "      <td>Posted 2 weeks ago</td>\n",
       "    </tr>\n",
       "    <tr>\n",
       "      <th>4</th>\n",
       "      <td>Mrs Elizabeth Lowes</td>\n",
       "      <td>“\\nWorst bank ever l got a very rude insulting...</td>\n",
       "      <td>1</td>\n",
       "      <td>Posted 2 weeks ago</td>\n",
       "    </tr>\n",
       "    <tr>\n",
       "      <th>...</th>\n",
       "      <td>...</td>\n",
       "      <td>...</td>\n",
       "      <td>...</td>\n",
       "      <td>...</td>\n",
       "    </tr>\n",
       "    <tr>\n",
       "      <th>335</th>\n",
       "      <td>Ben Conway</td>\n",
       "      <td>“\\nAwful customer service NatWest Help Oxford ...</td>\n",
       "      <td>1</td>\n",
       "      <td>Posted 8 years ago</td>\n",
       "    </tr>\n",
       "    <tr>\n",
       "      <th>336</th>\n",
       "      <td>Genna</td>\n",
       "      <td>“\\nDefinitely fell in love with the man on the...</td>\n",
       "      <td>5</td>\n",
       "      <td>Posted 8 years ago</td>\n",
       "    </tr>\n",
       "    <tr>\n",
       "      <th>337</th>\n",
       "      <td>Jo Tillott</td>\n",
       "      <td>“\\n£16.00 to call NatWest Help about a simple ...</td>\n",
       "      <td>1</td>\n",
       "      <td>Posted 8 years ago</td>\n",
       "    </tr>\n",
       "    <tr>\n",
       "      <th>338</th>\n",
       "      <td>Skywalker</td>\n",
       "      <td>“\\nI forgot how much I actually dislike Natwes...</td>\n",
       "      <td>1</td>\n",
       "      <td>Posted 8 years ago</td>\n",
       "    </tr>\n",
       "    <tr>\n",
       "      <th>339</th>\n",
       "      <td>Leanna Lawson</td>\n",
       "      <td>“\\nhave just had amazing customer service from...</td>\n",
       "      <td>5</td>\n",
       "      <td>Posted 8 years ago</td>\n",
       "    </tr>\n",
       "  </tbody>\n",
       "</table>\n",
       "<p>340 rows × 4 columns</p>\n",
       "</div>"
      ],
      "text/plain": [
       "                  AUTHOR                                            COMMENT  \\\n",
       "0        Elizabeth Lowes  “\\nI asked for a charge back of £38.47.. for a...   \n",
       "1              Anonymous  “\\nOnly thing worse than being a Natwest custo...   \n",
       "2              Anonymous  “\\nInformed them online I was going to Japan f...   \n",
       "3    Mrs Elizabeth Lowes  “\\nNatwest accused me of charge back fraud aft...   \n",
       "4    Mrs Elizabeth Lowes  “\\nWorst bank ever l got a very rude insulting...   \n",
       "..                   ...                                                ...   \n",
       "335           Ben Conway  “\\nAwful customer service NatWest Help Oxford ...   \n",
       "336                Genna  “\\nDefinitely fell in love with the man on the...   \n",
       "337           Jo Tillott  “\\n£16.00 to call NatWest Help about a simple ...   \n",
       "338            Skywalker  “\\nI forgot how much I actually dislike Natwes...   \n",
       "339        Leanna Lawson  “\\nhave just had amazing customer service from...   \n",
       "\n",
       "     RATING                TIME  \n",
       "0         1    Posted 1 day ago  \n",
       "1         1   Posted 1 week ago  \n",
       "2         1   Posted 1 week ago  \n",
       "3         1  Posted 2 weeks ago  \n",
       "4         1  Posted 2 weeks ago  \n",
       "..      ...                 ...  \n",
       "335       1  Posted 8 years ago  \n",
       "336       5  Posted 8 years ago  \n",
       "337       1  Posted 8 years ago  \n",
       "338       1  Posted 8 years ago  \n",
       "339       5  Posted 8 years ago  \n",
       "\n",
       "[340 rows x 4 columns]"
      ]
     },
     "execution_count": 9,
     "metadata": {},
     "output_type": "execute_result"
    }
   ],
   "source": [
    "dataset"
   ]
  },
  {
   "cell_type": "code",
   "execution_count": 17,
   "id": "f641c680",
   "metadata": {},
   "outputs": [
    {
     "name": "stdout",
     "output_type": "stream",
     "text": [
      "['User Review', 'Star Rating', 'Date']\n",
      "['It was simple to set up and integrate with HubSpot. Our onboarding rep Ryan was absolutely amazing. This will reduce hours of work for RFP submission and allow our sales team to always have the most recent and on board proposal templates.', '5 of 5', 'Nov 19 2021']\n",
      "[\"Pretty happy with the platform. had some issues trying to integrate it with HubSpot as the external page wouldn't load.\", '4 of 5', 'Sep 27 2021']\n",
      "['HubSpot is not integrating properly with Proposify. I have to sync and un-sync with every deal', '1 of 5', 'Sep 24 2021']\n",
      "['Proposify works great as it saves us time and allows us to continue to update our proposals. It integrates really well with HubSpot which keeps the entire team on track and engaged.', '5 of 5', 'Aug 24 2021']\n",
      "['The functionality is limited in its current state. 1. Every single contact associated with a deal needs an email address to send the proposal. If one contact does not have an email Proposify will not acknowledge any of the contacts that do have emails. 2. The variable fields in Proposify do not link to property fields within HubSpot. You need to manually write in your custom fields. 3. Adding a second signer does not auto-populate a new signing field in the templates either. The support staff is friendly but they have been unable to provide solutions to the glitches that have arisen. The proposals within Proposify are nice and easy to edit so if none of the issues stated above impact you this may be a great solution for you. Unfortunately these three problems are essential for our business so it is a bummer that Proposify has been unable to solve them as of yet.', '2 of 5', 'Aug 18 2021']\n",
      "['Proposify is very easy to use & has helped me be more efficient & professional for clients. It saves me time & allows me to get signatures on deals & renewals in a very professional way.', '5 of 5', 'Aug 16 2021']\n",
      "['Very Satisfactory- has allowed us to email out proposals and sign contracts. Has really simplified the process for us.', '5 of 5', 'Aug 13 2021']\n",
      "[\"We get compliments on our proposals regularly and we don't have to take hours to complete them. The average proposal probably takes us 10 minutes. The only drawback is if you delete an image or text block it can really throw off the template and require a lot of manual adjustment that I find really challenging.\", '5 of 5', 'Aug 12 2021']\n",
      "['Extremely well. easy tracking of when client view and sign off. Good for managing a sales team with many staff and tracking pipeline. We have our solution fully integrated to HubSpot for pipeline/deal generation.', '5 of 5', 'Aug 12 2021']\n",
      "[\"Proposify has vastly changed our closing rate with how easy it is to make the proposal and deliver it to the client. It's helpful that it has a HubSpot integration because we can import all of our contact data and we are notified by Proposify and HubSpot when a deal has just been closed/won - notifying our team of the next step to move forward with the project.\", '5 of 5', 'Aug 12 2021']\n",
      "['Although it took some time to create a template that meet our needs as a small business the results are a professional clean easy-to-use platform for all of our proposals. The integration is seamless. The only little thing missing is the ability to have a blank signature block for the client to sign. Overall a great purchase for our growing company!', '4 of 5', 'Aug 12 2021']\n",
      "[\"Proposify delivers upon expectations and allows our organization to seamlessly transition through (and monitor) each phase of our sales process in a step-wise manner. Proposify's HubSpot integration works as advertised and I have not encountered any challenges insofar. I appreciate that the integration of these two applications is bi-directional in that HubSpot contacts can be imported to Proposify but also that Proposify activity (e.g. creating new proposal sending proposal etc.) is automatically reflected in HubSpot Deals.\", '5 of 5', 'Aug 12 2021']\n",
      "['Love working with the product. Takes a lot off my workload. I can connect my accounts with the proposal to autofill the data', '5 of 5', 'Aug 11 2021']\n",
      "[\"It's great. I love how the integration between HubSpot and Proposify allows my contact information to auto-populate in the proposals.\", '5 of 5', 'Aug 11 2021']\n",
      "['The integration has been great and easy to setup. It was nice to customize what happens when proposals are sent and won to trigger this workflow in HubSpot for the deal stages to also change. Highly recommend these two tools to land more deals and have a consistent accurate deal stage.', '5 of 5', 'Jul 29 2021']\n"
     ]
    }
   ],
   "source": [
    "from csv import reader\n",
    "with open ('hubspotCombined.csv','r') as file:\n",
    "    reader = csv.reader(file)\n",
    "    for row in reader:\n",
    "        print (row)"
   ]
  },
  {
   "cell_type": "code",
   "execution_count": null,
   "id": "b8911e27",
   "metadata": {},
   "outputs": [],
   "source": []
  }
 ],
 "metadata": {
  "kernelspec": {
   "display_name": "Python 3 (ipykernel)",
   "language": "python",
   "name": "python3"
  },
  "language_info": {
   "codemirror_mode": {
    "name": "ipython",
    "version": 3
   },
   "file_extension": ".py",
   "mimetype": "text/x-python",
   "name": "python",
   "nbconvert_exporter": "python",
   "pygments_lexer": "ipython3",
   "version": "3.9.7"
  }
 },
 "nbformat": 4,
 "nbformat_minor": 5
}
